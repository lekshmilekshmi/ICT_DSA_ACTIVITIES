{
  "nbformat": 4,
  "nbformat_minor": 0,
  "metadata": {
    "colab": {
      "provenance": [],
      "include_colab_link": true
    },
    "kernelspec": {
      "name": "python3",
      "display_name": "Python 3"
    },
    "language_info": {
      "name": "python"
    }
  },
  "cells": [
    {
      "cell_type": "markdown",
      "metadata": {
        "id": "view-in-github",
        "colab_type": "text"
      },
      "source": [
        "<a href=\"https://colab.research.google.com/github/lekshmilekshmi/ICT_DSA_ACTIVITIES/blob/main/lekshmi_ETL_Casestudy.ipynb\" target=\"_parent\"><img src=\"https://colab.research.google.com/assets/colab-badge.svg\" alt=\"Open In Colab\"/></a>"
      ]
    },
    {
      "cell_type": "code",
      "execution_count": null,
      "metadata": {
        "id": "x3YfABomohcC"
      },
      "outputs": [],
      "source": [
        "import pandas as pd\n",
        "import sqlite3"
      ]
    },
    {
      "cell_type": "code",
      "source": [
        "url = \"https://earthquake.usgs.gov/earthquakes/feed/v1.0/summary/all_month.csv\"\n",
        "df = pd.read_csv(url)"
      ],
      "metadata": {
        "id": "JWK0yfIiol1f"
      },
      "execution_count": null,
      "outputs": []
    },
    {
      "cell_type": "code",
      "source": [
        "print(\"Number of records:\", len(df))\n",
        "print(\"Number of unique locations:\", df['place'].nunique())\n",
        "print(\"\\nTop 5 rows:\\n\", df.head())\n",
        "print(\"\\nColumn names:\\n\", df.columns.tolist())"
      ],
      "metadata": {
        "colab": {
          "base_uri": "https://localhost:8080/"
        },
        "id": "78o20SJyovJ_",
        "outputId": "7ceb40bc-9aac-4a21-886b-a3c12a4d6226"
      },
      "execution_count": null,
      "outputs": [
        {
          "output_type": "stream",
          "name": "stdout",
          "text": [
            "Number of records: 9906\n",
            "Number of unique locations: 5250\n",
            "\n",
            "Top 5 rows:\n",
            "                        time   latitude   longitude  depth   mag magType   nst  \\\n",
            "0  2025-09-21T14:09:14.470Z  33.936333 -116.677167  14.43  1.24      ml  70.0   \n",
            "1  2025-09-21T13:56:53.920Z  35.393500 -117.748667   5.91  0.97      ml  38.0   \n",
            "2  2025-09-21T13:56:33.600Z  38.769333 -122.730164   2.12  1.13      md   9.0   \n",
            "3  2025-09-21T13:50:53.610Z  33.031500 -116.292333   6.80  0.33      ml  20.0   \n",
            "4  2025-09-21T13:46:15.460Z  35.638833 -117.456000   7.07  0.95      ml  27.0   \n",
            "\n",
            "    gap     dmin   rms  ...                   updated  \\\n",
            "0  22.0  0.08250  0.16  ...  2025-09-21T14:13:32.763Z   \n",
            "1  62.0  0.10160  0.13  ...  2025-09-21T14:13:41.254Z   \n",
            "2  64.0  0.00877  0.01  ...  2025-09-21T13:58:09.704Z   \n",
            "3  56.0  0.07725  0.20  ...  2025-09-21T13:54:24.380Z   \n",
            "4  54.0  0.03714  0.14  ...  2025-09-21T14:15:28.660Z   \n",
            "\n",
            "                             place        type horizontalError depthError  \\\n",
            "0         10 km ENE of Cabazon, CA  earthquake            0.12       0.24   \n",
            "1    11 km WNW of Johannesburg, CA  earthquake            0.14       0.49   \n",
            "2      2 km ESE of The Geysers, CA  earthquake            0.52       0.90   \n",
            "3   20 km SW of Ocotillo Wells, CA  earthquake            0.30       0.75   \n",
            "4  15 km SSW of Searles Valley, CA  earthquake            0.19       0.41   \n",
            "\n",
            "   magError  magNst     status  locationSource magSource  \n",
            "0     0.138    26.0   reviewed              ci        ci  \n",
            "1     0.168    19.0   reviewed              ci        ci  \n",
            "2     0.330     9.0  automatic              nc        nc  \n",
            "3     0.174     3.0  automatic              ci        ci  \n",
            "4     0.170    13.0   reviewed              ci        ci  \n",
            "\n",
            "[5 rows x 22 columns]\n",
            "\n",
            "Column names:\n",
            " ['time', 'latitude', 'longitude', 'depth', 'mag', 'magType', 'nst', 'gap', 'dmin', 'rms', 'net', 'id', 'updated', 'place', 'type', 'horizontalError', 'depthError', 'magError', 'magNst', 'status', 'locationSource', 'magSource']\n"
          ]
        }
      ]
    },
    {
      "cell_type": "code",
      "source": [
        "# Convert time to datetime\n",
        "df['time'] = pd.to_datetime(df['time'], errors='coerce')"
      ],
      "metadata": {
        "id": "6a-D5UhHo71V"
      },
      "execution_count": null,
      "outputs": []
    },
    {
      "cell_type": "code",
      "source": [
        "# Drop missing latitude, longitude, mag\n",
        "df = df.dropna(subset=['latitude', 'longitude', 'mag'])"
      ],
      "metadata": {
        "id": "Nt6idWmko_wf"
      },
      "execution_count": null,
      "outputs": []
    },
    {
      "cell_type": "code",
      "source": [
        "# Filter magnitude >= 4.0\n",
        "df = df[df['mag'] >= 4.0]"
      ],
      "metadata": {
        "id": "o1Y2HrPKpIT7"
      },
      "execution_count": null,
      "outputs": []
    },
    {
      "cell_type": "code",
      "source": [
        "# Add day_of_week column\n",
        "df['day_of_week'] = df['time'].dt.day_name()\n"
      ],
      "metadata": {
        "id": "SGzy4gsgpdJs"
      },
      "execution_count": null,
      "outputs": []
    },
    {
      "cell_type": "code",
      "source": [
        "# Add severity_level column\n",
        "def classify_severity(mag):\n",
        "    if mag < 4.0:\n",
        "        return \"Low\"\n",
        "    elif 4.0 <= mag < 6.0:\n",
        "        return \"Moderate\"\n",
        "    else:\n",
        "        return \"High\"\n",
        "\n",
        "df['severity_level'] = df['mag'].apply(classify_severity)\n"
      ],
      "metadata": {
        "id": "cZr1P8uRspwU"
      },
      "execution_count": null,
      "outputs": []
    },
    {
      "cell_type": "code",
      "source": [
        "# Count earthquakes per place\n",
        "eq_per_place = df['place'].value_counts().reset_index()\n",
        "eq_per_place.columns = ['place', 'earthquake_count']\n",
        "print(\"\\nTop 10 locations with most earthquakes:\\n\", eq_per_place.head(10))"
      ],
      "metadata": {
        "colab": {
          "base_uri": "https://localhost:8080/"
        },
        "id": "JSPUe-Vkpqjm",
        "outputId": "bdcc4cb3-abcc-49b1-e241-bae488573d14"
      },
      "execution_count": null,
      "outputs": [
        {
          "output_type": "stream",
          "name": "stdout",
          "text": [
            "\n",
            "Top 10 locations with most earthquakes:\n",
            "                                             place  earthquake_count\n",
            "0                   South Sandwich Islands region                13\n",
            "1                                   Drake Passage                 9\n",
            "2                       south of the Fiji Islands                 7\n",
            "3                                     Fiji region                 6\n",
            "4                       Izu Islands, Japan region                 6\n",
            "5  146 km ESE of Petropavlovsk-Kamchatsky, Russia                 4\n",
            "6  153 km ESE of Petropavlovsk-Kamchatsky, Russia                 4\n",
            "7                southeast of the Loyalty Islands                 4\n",
            "8                                  south of Tonga                 4\n",
            "9    150 km E of Petropavlovsk-Kamchatsky, Russia                 4\n"
          ]
        }
      ]
    },
    {
      "cell_type": "code",
      "source": [
        "# Compute avg magnitude and max depth per day\n",
        "daily_summary = df.groupby(df['time'].dt.date).agg(\n",
        "    avg_magnitude=('mag', 'mean'),\n",
        "    max_depth=('depth', 'max')\n",
        ").reset_index()\n",
        "daily_summary.rename(columns={'time': 'date'}, inplace=True)\n",
        "print(\"\\nSummary (first 5 rows):\\n\",daily_summary.head())"
      ],
      "metadata": {
        "colab": {
          "base_uri": "https://localhost:8080/"
        },
        "id": "qPBE4SckputF",
        "outputId": "26c74275-927f-421b-8775-31468b711d2d"
      },
      "execution_count": null,
      "outputs": [
        {
          "output_type": "stream",
          "name": "stdout",
          "text": [
            "\n",
            "Summary (first 5 rows):\n",
            "          date  avg_magnitude  max_depth\n",
            "0  2025-08-22       4.485714    515.056\n",
            "1  2025-08-23       4.582979    565.087\n",
            "2  2025-08-24       4.514894    499.800\n",
            "3  2025-08-25       4.677778    126.766\n",
            "4  2025-08-26       4.678571    612.812\n"
          ]
        }
      ]
    },
    {
      "cell_type": "code",
      "source": [
        "# Save cleaned dataset\n",
        "df.to_csv(\"cleaned_earthquakes.csv\", index=False)\n"
      ],
      "metadata": {
        "id": "dzjg-aM2p3LU"
      },
      "execution_count": null,
      "outputs": []
    },
    {
      "cell_type": "code",
      "source": [
        "# Save summary dataset\n",
        "daily_summary.to_csv(\"earthquake_summary.csv\", index=False)"
      ],
      "metadata": {
        "id": "UVSlVGT4qAuZ"
      },
      "execution_count": null,
      "outputs": []
    },
    {
      "cell_type": "code",
      "source": [
        "# Store into SQLite\n",
        "conn = sqlite3.connect(\"earthquakes.db\")\n",
        "df.to_sql(\"earthquakes_cleaned\", conn, if_exists=\"replace\", index=False)\n",
        "daily_summary.to_sql(\"earthquake_summary\", conn, if_exists=\"replace\", index=False)\n",
        "conn.close()\n",
        "\n",
        "print(\"\\n ETL process completed!\")\n",
        "print(\"Files saved: cleaned_earthquakes.csv, earthquake_summary.csv, earthquakes.db\")"
      ],
      "metadata": {
        "colab": {
          "base_uri": "https://localhost:8080/"
        },
        "id": "8O3YVFEqqPgL",
        "outputId": "c8429203-dbaa-45ec-9ca3-1a59dbafd816"
      },
      "execution_count": null,
      "outputs": [
        {
          "output_type": "stream",
          "name": "stdout",
          "text": [
            "\n",
            " ETL process completed!\n",
            "Files saved: cleaned_earthquakes.csv, earthquake_summary.csv, earthquakes.db\n"
          ]
        }
      ]
    },
    {
      "cell_type": "markdown",
      "source": [
        "#F**low chart of ETL logic**\n",
        "\n",
        "Extract CSV → Load DataFrame → Clean Data (drop NA, filter magnitude) → Transform (datetime, severity, day_of_week) → Aggregate (per place & per day) → Save (CSV + SQLite)"
      ],
      "metadata": {
        "id": "xpcvO1rxxwYF"
      }
    },
    {
      "cell_type": "markdown",
      "source": [
        "#**A short explanation of process**\n",
        "**Extract**: The raw data was loaded from the USGS API (CSV format) into a Pandas DataFrame. Basic dataset information such as record count, unique locations, and sample rows was examined.\n",
        "\n",
        "**Transform**: Data was cleaned and enriched by:\n",
        "\n",
        "Converting the time field into proper datetime format.\n",
        "\n",
        "Removing records with missing latitude, longitude, or magnitude values.\n",
        "\n",
        "Filtering out earthquakes with magnitude below 4.0.\n",
        "\n",
        "Adding new fields like day_of_week and severity_level (based on magnitude ranges).\n",
        "\n",
        "Aggregating data to count earthquakes per location and calculate daily statistics (average magnitude, maximum depth).\n",
        "\n",
        "**Load:** The cleaned dataset and the daily summary were saved into CSV files and also stored in a SQLite database for further querying and analysis."
      ],
      "metadata": {
        "id": "1tJqUPFsyEi6"
      }
    },
    {
      "cell_type": "markdown",
      "source": [
        "#**Insight from the Data**\n",
        "\n",
        "From the processed earthquake data, we observed that the majority of recorded earthquakes had magnitudes between 4.0 and 6.0 (classified as “Moderate”), while only a small fraction exceeded magnitude 6.0. This indicates that although high-severity earthquakes do occur, they are relatively rare compared to moderate ones"
      ],
      "metadata": {
        "id": "KWxGTf5Lyu1w"
      }
    }
  ]
}