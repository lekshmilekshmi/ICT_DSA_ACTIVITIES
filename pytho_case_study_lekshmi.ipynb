{
  "nbformat": 4,
  "nbformat_minor": 0,
  "metadata": {
    "colab": {
      "provenance": [],
      "authorship_tag": "ABX9TyNRGpRI+Qtqigy6qo08hXS4",
      "include_colab_link": true
    },
    "kernelspec": {
      "name": "python3",
      "display_name": "Python 3"
    },
    "language_info": {
      "name": "python"
    }
  },
  "cells": [
    {
      "cell_type": "markdown",
      "metadata": {
        "id": "view-in-github",
        "colab_type": "text"
      },
      "source": [
        "<a href=\"https://colab.research.google.com/github/lekshmilekshmi/ICT_DSA_ACTIVITIES/blob/main/pytho_case_study_lekshmi.ipynb\" target=\"_parent\"><img src=\"https://colab.research.google.com/assets/colab-badge.svg\" alt=\"Open In Colab\"/></a>"
      ]
    },
    {
      "cell_type": "code",
      "execution_count": null,
      "metadata": {
        "colab": {
          "base_uri": "https://localhost:8080/"
        },
        "id": "mxJG1rcQreKs",
        "outputId": "2a19758d-0616-4094-e6e2-a0a7f39cae8d"
      },
      "outputs": [
        {
          "output_type": "stream",
          "name": "stdout",
          "text": [
            "(9, 2)\n"
          ]
        }
      ],
      "source": [
        "#maximum and minimum\n",
        "list=[6,9,5,3,2]\n",
        "def find_range(numbers):\n",
        "  max_num=numbers[0]\n",
        "  min_num=numbers[0]\n",
        "  for num in numbers:\n",
        "    if num > max_num:\n",
        "      max_num=num\n",
        "    if num < min_num:\n",
        "      min_num=num\n",
        "  return max_num,min_num\n",
        "print(find_range(list))\n"
      ]
    },
    {
      "cell_type": "code",
      "source": [
        "#functions to return the mean of a list\n",
        "list=[5,8,9,7,4]\n",
        "def find_mean(numbers):\n",
        "  total =0\n",
        "  count=0\n",
        "  for num in numbers:\n",
        "    total += num\n",
        "    count += 1\n",
        "  return total /count\n",
        "print(find_mean(list))\n"
      ],
      "metadata": {
        "colab": {
          "base_uri": "https://localhost:8080/"
        },
        "id": "p1TSTBBawh0I",
        "outputId": "dcd2acde-ff94-4f67-e309-2af4fbf1432f"
      },
      "execution_count": null,
      "outputs": [
        {
          "output_type": "stream",
          "name": "stdout",
          "text": [
            "6.6\n"
          ]
        }
      ]
    },
    {
      "cell_type": "code",
      "source": [
        "#functions to return the median of a list\n",
        "list=[7,9,2,6,1,9]\n",
        "for i in range(len(list)):\n",
        "  for j in range(0,len(list)- i - 1):\n",
        "    if list[j]>list[j+1]:\n",
        "      list[j],list[j+1]=list[j+1],list[j]\n",
        "mid =len(list)//2\n",
        "if len(list) % 2 ==0:\n",
        "  median_value=(list[mid-1]+list[mid])/2\n",
        "else:\n",
        "  median_value=list[mid]\n",
        "print(median_value)\n",
        "\n"
      ],
      "metadata": {
        "colab": {
          "base_uri": "https://localhost:8080/"
        },
        "id": "Gj8eFxvmznkw",
        "outputId": "a0266468-5ab4-415d-d0fe-8f22f3eee7c3"
      },
      "execution_count": null,
      "outputs": [
        {
          "output_type": "stream",
          "name": "stdout",
          "text": [
            "6.5\n"
          ]
        }
      ]
    },
    {
      "cell_type": "code",
      "source": [
        "#mode functions\n",
        "list=[6,9,90,78,45,6,]\n",
        "def mode_value(number4):\n",
        "  mode_repeat = {}\n",
        "  for i in number4:\n",
        "    if i in mode_repeat:\n",
        "        mode_repeat[i] += 1\n",
        "    else:\n",
        "       mode_repeat[i] = 1\n",
        "  max_freq=0\n",
        "  for v in mode_repeat.values():\n",
        "    if v >max_freq:\n",
        "      max_freq=v\n",
        "\n",
        "  if max_freq==0:\n",
        "    return None\n",
        "  else:\n",
        "    mode_values=[]\n",
        "    for num,count in mode_repeat.items():\n",
        "      if mode_repeat[num]== max_freq:\n",
        "        mode_values.append(num)\n",
        "    print(\"mode values: \",mode_values)\n",
        "mode_value(list)\n",
        "\n"
      ],
      "metadata": {
        "colab": {
          "base_uri": "https://localhost:8080/"
        },
        "id": "F9zfEjzb1SGl",
        "outputId": "c23098b3-a512-44a2-a9a2-372642615c16"
      },
      "execution_count": null,
      "outputs": [
        {
          "output_type": "stream",
          "name": "stdout",
          "text": [
            "mode values:  [6]\n"
          ]
        }
      ]
    },
    {
      "cell_type": "markdown",
      "source": [],
      "metadata": {
        "id": "YjvoZ5f_1KZZ"
      }
    },
    {
      "cell_type": "code",
      "source": [
        "#percentile function\n",
        "list=[51,78,90,67,45,]\n",
        "def percentile_list(data,percent):\n",
        "  datasort=sorted(data)\n",
        "  position=(percent/100)*len(datasort)-1\n",
        "  lower=int(position)\n",
        "  upper=lower+1\n",
        "  if upper>=len(data):\n",
        "    return data[lower]\n",
        "  return data[lower] + (data[upper] - data[lower]) * (position - lower)\n",
        "print(percentile_list(list,90))"
      ],
      "metadata": {
        "colab": {
          "base_uri": "https://localhost:8080/"
        },
        "id": "5FRXcPgl8lSZ",
        "outputId": "873b8fbe-1d00-4abc-f475-a585fbef0a37"
      },
      "execution_count": null,
      "outputs": [
        {
          "output_type": "stream",
          "name": "stdout",
          "text": [
            "56.0\n"
          ]
        }
      ]
    },
    {
      "cell_type": "code",
      "source": [
        "#lower bound\n",
        "list=[67,90,64,45,23]\n",
        "def lower_bound(list):\n",
        "    if not list:\n",
        "      return None\n",
        "    return min(list)\n",
        "print(\"lower bound:\",lower_bound(list))"
      ],
      "metadata": {
        "colab": {
          "base_uri": "https://localhost:8080/"
        },
        "id": "7CX3OkHx91jO",
        "outputId": "bbdde93e-abc1-45ea-8558-a3b30eab46e3"
      },
      "execution_count": null,
      "outputs": [
        {
          "output_type": "stream",
          "name": "stdout",
          "text": [
            "lower bound: 23\n"
          ]
        }
      ]
    },
    {
      "cell_type": "code",
      "source": [
        "#write the function to return outliers\n",
        "list=[50,90,60,70,80,40,560]\n",
        "def find_outliers(list):\n",
        "  if not list:\n",
        "    return None\n",
        "  sorted_list = sorted(list)\n",
        "  n=len(sorted_list)\n",
        "  Q1=sorted_list[n//4]\n",
        "  Q3=sorted_list[(3 * n) // 4]\n",
        "  IQR= Q3-Q1\n",
        "  lower_bound=Q1 - 1.5 * IQR\n",
        "  upper_bound=Q3 + 1.5 * IQR\n",
        "  outliers = [ x for x in list if x < lower_bound or x > upper_bound]\n",
        "  return outliers\n",
        "print(find_outliers(list))\n"
      ],
      "metadata": {
        "colab": {
          "base_uri": "https://localhost:8080/"
        },
        "id": "NU8MrfFT_PHy",
        "outputId": "5606c202-1959-4bde-cc9f-2167b0314615"
      },
      "execution_count": null,
      "outputs": [
        {
          "output_type": "stream",
          "name": "stdout",
          "text": [
            "[560]\n"
          ]
        }
      ]
    },
    {
      "cell_type": "code",
      "source": [
        "#return standard deviation\n",
        "list=[67,90,79,45,34]\n",
        "def standard_deviation (list4):\n",
        "  mean_std=sum(list4) / len(list4)\n",
        "\n",
        "  squared=[]\n",
        "  for num in list4:\n",
        "    squared.append((num - mean_std) ** 2)\n",
        "  variance=sum(squared)/len(list4)\n",
        "  std_dev = variance ** 0.5\n",
        "  return std_dev\n",
        "print(standard_deviation(list))\n"
      ],
      "metadata": {
        "colab": {
          "base_uri": "https://localhost:8080/"
        },
        "id": "NZQyI87pEdV-",
        "outputId": "bc118d75-db8b-4498-b4ce-689aaa399bde"
      },
      "execution_count": null,
      "outputs": [
        {
          "output_type": "stream",
          "name": "stdout",
          "text": [
            "20.813457185196313\n"
          ]
        }
      ]
    },
    {
      "cell_type": "code",
      "source": [
        "#return z score values\n",
        "list=[7,8,9,6,5,4]\n",
        "def z_scores(list):\n",
        "  mean_val = sum(list) / len(list)\n",
        "  std_dev = (sum((x - mean_val ) ** 2 for x in list) / len(list)) ** 0.5\n",
        "  return [(x - mean_val) / std_dev for x in list]\n",
        "print(z_scores(list))"
      ],
      "metadata": {
        "colab": {
          "base_uri": "https://localhost:8080/"
        },
        "id": "7gXlDK7VFRuq",
        "outputId": "4910de82-8027-41f4-af99-0fdf76e4633d"
      },
      "execution_count": null,
      "outputs": [
        {
          "output_type": "stream",
          "name": "stdout",
          "text": [
            "[0.29277002188455997, 0.8783100656536799, 1.4638501094227998, -0.29277002188455997, -0.8783100656536799, -1.4638501094227998]\n"
          ]
        }
      ]
    },
    {
      "cell_type": "code",
      "source": [
        "#pearson correlation coefficient function\n",
        "list=[2,3,4,5,6]\n",
        "def pearson_cor(x,y):\n",
        "  if len(x) != len(y):\n",
        "    raise valueError(\"both lists must have the same length\")\n",
        "    mean_x = sum(x) / len(x)\n",
        "    mean_y = sum(y) / len(y)\n",
        "    numerator = sum((xi-mean_x)) * (yi-mean_y) for xi, yi in zip(x,y)\n",
        "    denominator_x = sum((xi-mean_x) ** 2 for xi in x) ** 0.5\n",
        "    denominator_y = sum((yi-mean_y) ** 2 for yi in y) ** 0.5\n",
        "    return numerator / (denominator_x*denominator_y)\n",
        "print(pearson_cor(list))\n",
        "\n"
      ],
      "metadata": {
        "colab": {
          "base_uri": "https://localhost:8080/",
          "height": 106
        },
        "id": "HUIKyLPGFRrO",
        "outputId": "f3d7f4bd-1086-4507-ddd6-12cf5235ff1e"
      },
      "execution_count": null,
      "outputs": [
        {
          "output_type": "error",
          "ename": "SyntaxError",
          "evalue": "invalid syntax (ipython-input-2971905160.py, line 8)",
          "traceback": [
            "\u001b[0;36m  File \u001b[0;32m\"/tmp/ipython-input-2971905160.py\"\u001b[0;36m, line \u001b[0;32m8\u001b[0m\n\u001b[0;31m    numerator = sum((xi-mean_x)) * (yi-mean_y) for xi, yi in zip(x,y)\u001b[0m\n\u001b[0m                                               ^\u001b[0m\n\u001b[0;31mSyntaxError\u001b[0m\u001b[0;31m:\u001b[0m invalid syntax\n"
          ]
        }
      ]
    },
    {
      "cell_type": "code",
      "source": [
        "def pearson_corr(list7, list8):\n",
        "    n = len(list7)\n",
        "\n",
        "    sum_x = sum(list7)\n",
        "    sum_y = sum(list8)\n",
        "    sum_xy = sum(x * y for x, y in zip(list7, list8))\n",
        "    sum_x2 = sum(x ** 2 for x in list7)\n",
        "    sum_y2 = sum(y ** 2 for y in list8)\n",
        "    numerator = n * sum_xy - sum_x * sum_y\n",
        "    denominator = ((n * sum_x2 - sum_x ** 2) * (n * sum_y2 - sum_y ** 2)) ** 0.5\n",
        "\n",
        "    if denominator == 0:\n",
        "        return None\n",
        "    return numerator / denominator\n",
        "x=[1, 2, 3, 4, 5,8,55]\n",
        "y=[50, 60, 70, 80, 90,48,62]\n",
        "print(\"Pearson corr:\", pearson_corr(x, y))\n"
      ],
      "metadata": {
        "colab": {
          "base_uri": "https://localhost:8080/"
        },
        "id": "dy-4_i1S31IA",
        "outputId": "9e7f2ce5-c95b-4e3c-bbe7-6669fbdcf28d"
      },
      "execution_count": 1,
      "outputs": [
        {
          "output_type": "stream",
          "name": "stdout",
          "text": [
            "Pearson corr: -0.1011242317923758\n"
          ]
        }
      ]
    }
  ]
}