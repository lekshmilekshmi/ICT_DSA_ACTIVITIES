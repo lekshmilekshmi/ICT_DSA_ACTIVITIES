{
  "nbformat": 4,
  "nbformat_minor": 0,
  "metadata": {
    "colab": {
      "provenance": [],
      "authorship_tag": "ABX9TyPRnpDMOsbJx+t4p1bhfDak",
      "include_colab_link": true
    },
    "kernelspec": {
      "name": "python3",
      "display_name": "Python 3"
    },
    "language_info": {
      "name": "python"
    }
  },
  "cells": [
    {
      "cell_type": "markdown",
      "metadata": {
        "id": "view-in-github",
        "colab_type": "text"
      },
      "source": [
        "<a href=\"https://colab.research.google.com/github/lekshmilekshmi/ICT_DSA_ACTIVITIES/blob/main/lekshmi_python_casestudy.ipynb\" target=\"_parent\"><img src=\"https://colab.research.google.com/assets/colab-badge.svg\" alt=\"Open In Colab\"/></a>"
      ]
    },
    {
      "cell_type": "code",
      "source": [
        "# monthly temperature\n",
        "\n",
        "monthly_temperature=[12, 15, 14, 16, 18, 20, 22, 19, 17, 15, 13, 10]\n",
        "mean=sum(monthly_temperature)/ len(monthly_temperature)\n",
        "print(f\" mean of data: \", mean)\n",
        "#median\n",
        "sorted_list = sorted(monthly_temperature)\n",
        "n = len(sorted_list)\n",
        "if n % 2 == 0:\n",
        "    median_temp = (sorted_list[n//2 - 1] + sorted_list[n//2]) / 2\n",
        "else:\n",
        "    median_temp = sorted_list[n//2]\n",
        "print(\"Median Temperature:\", median_temp)\n",
        "#mode\n",
        "freq = {}\n",
        "for i in monthly_temperature:\n",
        "    freq[i] = freq.get(i, 0) + 1\n",
        "max_freq = max(freq.values())\n",
        "modes = [k for k, v in freq.items() if v == max_freq]\n",
        "print(\"Mode(s):\", modes)\n",
        "#range\n",
        "range_temp = max(monthly_temperature) - min(monthly_temperature)\n",
        "print(\"Range:\", range_temp)\n",
        "#variance\n",
        "variance = sum((x - mean) ** 2 for x in monthly_temperature) / len(monthly_temperature)\n",
        "print(\"Variance:\", variance)"
      ],
      "metadata": {
        "colab": {
          "base_uri": "https://localhost:8080/"
        },
        "id": "HThnNGtH2KeS",
        "outputId": "5dff693b-6272-4ad7-de26-60ded3efedcc"
      },
      "execution_count": 4,
      "outputs": [
        {
          "output_type": "stream",
          "name": "stdout",
          "text": [
            " mean of data:  15.916666666666666\n",
            "Median Temperature: 15.5\n",
            "Mode(s): [15]\n",
            "Range: 12\n",
            "Variance: 11.076388888888888\n"
          ]
        }
      ]
    },
    {
      "cell_type": "code",
      "source": [
        "#height of student, range\n",
        "\n",
        "height=[150, 160, 165, 170, 155, 160, 162, 168]\n",
        "range_heights = max(height) - min(height)\n",
        "print(\"range of heights: \",range_heights)\n",
        "#variance\n",
        "mean_height=sum(height)/ len(height)\n",
        "variance = sum((x - mean_height) ** 2 for x in height) / len(height)\n",
        "print(\"Variance:\", variance)\n",
        "\n",
        "#Standard Deviation\n",
        "std_dev = variance ** 0.5\n",
        "print(\"Standard Deviation:\", std_dev)\n",
        "\n"
      ],
      "metadata": {
        "colab": {
          "base_uri": "https://localhost:8080/"
        },
        "id": "quGz6oeY2r7T",
        "outputId": "e2a86666-7e79-4dbf-c51d-296bd43323cd"
      },
      "execution_count": 5,
      "outputs": [
        {
          "output_type": "stream",
          "name": "stdout",
          "text": [
            "range of heights:  20\n",
            "Variance: 38.1875\n",
            "Standard Deviation: 6.179603547154137\n"
          ]
        }
      ]
    },
    {
      "cell_type": "code",
      "source": [
        "#Weekly expenses\n",
        "\n",
        "expenses=[200, 250, 300, 220, 270, 290, 310]\n",
        "mean_expenses = sum(expenses) / len(expenses)\n",
        "variance = sum((x - mean_expenses) ** 2 for x in expenses) / len(expenses)\n",
        "std_dev = variance ** 0.5\n",
        "\n",
        "print(\"Standard Deviation of weekly expenses:\", std_dev)"
      ],
      "metadata": {
        "colab": {
          "base_uri": "https://localhost:8080/"
        },
        "id": "bJOjpW6C3AdI",
        "outputId": "38a96dbb-583f-409a-b381-d99e476c2921"
      },
      "execution_count": 6,
      "outputs": [
        {
          "output_type": "stream",
          "name": "stdout",
          "text": [
            "Standard Deviation of weekly expenses: 38.438925848782034\n"
          ]
        }
      ]
    },
    {
      "cell_type": "code",
      "source": [
        "#Advertising Spending\n",
        "\n",
        "X=[10, 20, 15, 25, 30]\n",
        "Y=[100, 150, 120, 180, 200]\n",
        "mean_X = sum(X) / len(X)\n",
        "mean_Y = sum(Y) / len(Y)\n",
        "\n",
        "#Covariance\n",
        "cov_xy = sum((X[i] - mean_X) * (Y[i] - mean_Y) for i in range(len(X))) / len(X)\n",
        "# Standard deviations\n",
        "std_X = (sum((x - mean_X) ** 2 for x in X) / len(X)) ** 0.5\n",
        "std_Y = (sum((y - mean_Y) ** 2 for y in Y) / len(X)) ** 0.5\n",
        "\n",
        "#Correlation\n",
        "corr_xy = cov_xy / (std_X * std_Y)\n",
        "\n",
        "print(\"Covariance between X and Y:\", cov_xy)\n",
        "print(\"Correlation between X and Y:\", corr_xy)\n"
      ],
      "metadata": {
        "colab": {
          "base_uri": "https://localhost:8080/"
        },
        "id": "rW54wC07_UjN",
        "outputId": "0281df19-01b8-4327-f038-5c6b2ba8a4a2"
      },
      "execution_count": 7,
      "outputs": [
        {
          "output_type": "stream",
          "name": "stdout",
          "text": [
            "Covariance between X and Y: 260.0\n",
            "Correlation between X and Y: 0.9970544855015816\n"
          ]
        }
      ]
    },
    {
      "cell_type": "code",
      "source": [
        "# monthly savings\n",
        "\n",
        "savings = [200, 300, 400, 500, 600, 700, 800, 900, 1000, 1100]\n",
        "savings.sort()\n",
        "# Function to calculate median\n",
        "def median(data):\n",
        "    n = len(data)\n",
        "    mid = n // 2\n",
        "    if n % 2 == 0:\n",
        "        return (data[mid - 1] + data[mid]) / 2\n",
        "    else:\n",
        "        return data[mid]\n",
        "n = len(savings)\n",
        "mid = n // 2\n",
        "\n",
        "if n % 2 == 0:\n",
        "    lower_half = savings[:mid]\n",
        "    upper_half = savings[mid:]\n",
        "else:\n",
        "    lower_half = savings[:mid]\n",
        "    upper_half = savings[mid+1:]\n",
        "Q1 = median(lower_half)\n",
        "Q3 = median(upper_half)\n",
        "\n",
        "# IQR\n",
        "IQR = Q3 - Q1\n",
        "\n",
        "\n",
        "lower_bound = Q1 - 1.5 * IQR\n",
        "upper_bound = Q3 + 1.5 * IQR\n",
        "\n",
        "# outliers\n",
        "outliers = [x for x in savings if x < lower_bound or x > upper_bound]\n",
        "\n",
        "print(\"Q1 (First Quartile):\", Q1)\n",
        "print(\"Q3 (Third Quartile):\", Q3)\n",
        "print(\"Interquartile Range (IQR):\", IQR)\n",
        "print(\"Outliers:\", outliers)\n"
      ],
      "metadata": {
        "colab": {
          "base_uri": "https://localhost:8080/"
        },
        "id": "ApfTbA9AN1ht",
        "outputId": "b7b65484-a97d-412e-b4b2-59a639c788cb"
      },
      "execution_count": 11,
      "outputs": [
        {
          "output_type": "stream",
          "name": "stdout",
          "text": [
            "Q1 (First Quartile): 400\n",
            "Q3 (Third Quartile): 900\n",
            "Interquartile Range (IQR): 500\n",
            "Outliers: []\n"
          ]
        }
      ]
    },
    {
      "cell_type": "code",
      "source": [
        "#Ages of employees\n",
        "\n",
        "ages=[22, 25, 28, 30, 35, 40, 45, 50, 55, 100]\n",
        "ages.sort()\n",
        "\n",
        "# Function to calculate median\n",
        "def median(data):\n",
        "    n = len(data)\n",
        "    mid = n // 2\n",
        "    if n % 2 == 0:\n",
        "        return (data[mid - 1] + data[mid]) / 2\n",
        "    else:\n",
        "        return data[mid]\n",
        "\n",
        "if n % 2 == 0:\n",
        "    lower_half = ages[:mid]\n",
        "    upper_half = ages[mid:]\n",
        "else:\n",
        "    lower_half = ages[:mid]\n",
        "    upper_half = ages[mid+1:]\n",
        "\n",
        "Q1 = median(lower_half)\n",
        "Q3 = median(upper_half)\n",
        "\n",
        "# IQR\n",
        "IQR = Q3 - Q1\n",
        "\n",
        "\n",
        "lower_bound = Q1 - 1.5 * IQR\n",
        "upper_bound = Q3 + 1.5 * IQR\n",
        "\n",
        "# outliers\n",
        "outliers = [x for x in ages if x < lower_bound or x > upper_bound]\n",
        "\n",
        "print(\"Q1 (First Quartile):\", Q1)\n",
        "print(\"Q3 (Third Quartile):\", Q3)\n",
        "print(\"Interquartile Range (IQR):\", IQR)\n",
        "print(\"Outliers:\", outliers)\n"
      ],
      "metadata": {
        "colab": {
          "base_uri": "https://localhost:8080/"
        },
        "id": "fFr1SFVASlWu",
        "outputId": "00196e1c-b013-4eb7-fb32-84d23b2e4610"
      },
      "execution_count": 12,
      "outputs": [
        {
          "output_type": "stream",
          "name": "stdout",
          "text": [
            "Q1 (First Quartile): 28\n",
            "Q3 (Third Quartile): 50\n",
            "Interquartile Range (IQR): 22\n",
            "Outliers: [100]\n"
          ]
        }
      ]
    },
    {
      "cell_type": "code",
      "source": [
        "#Annual salaries of employees\n",
        "import math\n",
        "data = [40, 42, 45, 47, 50, 52, 55, 57, 60, 62]\n",
        "n = len(data)\n",
        "\n",
        "#Mean\n",
        "mean = sum(data) / n\n",
        "\n",
        "#Calculate Standard Deviation\n",
        "variance = sum((x - mean) ** 2 for x in data) / n\n",
        "std_dev = math.sqrt(variance)\n",
        "z_scores = [(x - mean) / std_dev for x in data]\n",
        "\n",
        "normal_pdf = []\n",
        "for x in data:\n",
        "    pdf = (1 / (std_dev * math.sqrt(2 * math.pi))) * math.exp(-((x - mean) ** 2) / (2 * variance))\n",
        "    normal_pdf.append(pdf)\n",
        "\n",
        "    interpretation = []\n",
        "for i, z in enumerate(z_scores):\n",
        "    if abs(z) < 1:\n",
        "        msg = \"within 1 std dev of mean (typical)\"\n",
        "    elif abs(z) < 2:\n",
        "        msg = \"within 2 std devs of mean (moderately unusual)\"\n",
        "    else:\n",
        "        msg = \"more than 2 std devs away (rare)\"\n",
        "    interpretation.append((data[i], z, msg))\n",
        "print(\"Mean Salary:\", mean)\n",
        "print(\"Standard Deviation:\", std_dev)\n",
        "print(\"\\nZ-scores for each salary:\")\n",
        "for val, z, msg in interpretation:\n",
        "    print(f\"Salary {val} → Z = {z:.2f} → {msg}\")\n",
        "\n",
        "print(\"\\nNormal Distribution PDF values:\")\n",
        "for val, pdf in zip(data, normal_pdf):\n",
        "    print(f\"Salary {val} → PDF = {pdf:.5f}\")\n"
      ],
      "metadata": {
        "colab": {
          "base_uri": "https://localhost:8080/"
        },
        "id": "6aPVYTS-Tgl0",
        "outputId": "e6b5183d-e429-41b9-f4bc-b34b0cf80d18"
      },
      "execution_count": 13,
      "outputs": [
        {
          "output_type": "stream",
          "name": "stdout",
          "text": [
            "Mean Salary: 51.0\n",
            "Standard Deviation: 7.14142842854285\n",
            "\n",
            "Z-scores for each salary:\n",
            "Salary 40 → Z = -1.54 → within 2 std devs of mean (moderately unusual)\n",
            "Salary 42 → Z = -1.26 → within 2 std devs of mean (moderately unusual)\n",
            "Salary 45 → Z = -0.84 → within 1 std dev of mean (typical)\n",
            "Salary 47 → Z = -0.56 → within 1 std dev of mean (typical)\n",
            "Salary 50 → Z = -0.14 → within 1 std dev of mean (typical)\n",
            "Salary 52 → Z = 0.14 → within 1 std dev of mean (typical)\n",
            "Salary 55 → Z = 0.56 → within 1 std dev of mean (typical)\n",
            "Salary 57 → Z = 0.84 → within 1 std dev of mean (typical)\n",
            "Salary 60 → Z = 1.26 → within 2 std devs of mean (moderately unusual)\n",
            "Salary 62 → Z = 1.54 → within 2 std devs of mean (moderately unusual)\n",
            "\n",
            "Normal Distribution PDF values:\n",
            "Salary 40 → PDF = 0.01706\n",
            "Salary 42 → PDF = 0.02525\n",
            "Salary 45 → PDF = 0.03925\n",
            "Salary 47 → PDF = 0.04775\n",
            "Salary 50 → PDF = 0.05532\n",
            "Salary 52 → PDF = 0.05532\n",
            "Salary 55 → PDF = 0.04775\n",
            "Salary 57 → PDF = 0.03925\n",
            "Salary 60 → PDF = 0.02525\n",
            "Salary 62 → PDF = 0.01706\n"
          ]
        }
      ]
    },
    {
      "cell_type": "code",
      "source": [
        "#Scores of students in a standardized test\n",
        "import math\n",
        "scores = [85, 87, 90, 92, 95, 97, 100, 102, 105, 107]\n",
        "n = len(scores)\n",
        "\n",
        "# Mean\n",
        "mean = sum(scores) / n\n",
        "# Standard deviation\n",
        "variance = sum((x - mean) ** 2 for x in scores) / (n - 1)\n",
        "std_dev = math.sqrt(variance)\n",
        "\n",
        "print(\"Mean:\", mean)\n",
        "print(\"Standard Deviation:\", std_dev)\n",
        "\n",
        "\n",
        "def normal_cdf(x, mu, sigma):\n",
        "    return 0.5 * (1 + math.erf((x - mu) / (sigma * math.sqrt(2))))\n",
        "\n",
        "\n",
        "p_values = []\n",
        "for x in scores:\n",
        "    z_p = 1 - normal_cdf(abs(x - mean), 0, std_dev)  # two-tailed\n",
        "    p_value = 2 * z_p\n",
        "    p_values.append((x, p_value))\n",
        "\n",
        "print(\"\\nP-Values for each score:\")\n",
        "for score, p in p_values:\n",
        "    print(f\"Score {score}: p-value = {p}\")\n"
      ],
      "metadata": {
        "colab": {
          "base_uri": "https://localhost:8080/"
        },
        "id": "dwF0pc_OUzI6",
        "outputId": "1b9d7f31-c332-4524-efe2-72a71ce90218"
      },
      "execution_count": 14,
      "outputs": [
        {
          "output_type": "stream",
          "name": "stdout",
          "text": [
            "Mean: 96.0\n",
            "Standard Deviation: 7.52772652709081\n",
            "\n",
            "P-Values for each score:\n",
            "Score 85: p-value = 0.14394285142293217\n",
            "Score 87: p-value = 0.2318604627746803\n",
            "Score 90: p-value = 0.4254200204693488\n",
            "Score 92: p-value = 0.5951631467095724\n",
            "Score 95: p-value = 0.8943181533601761\n",
            "Score 97: p-value = 0.8943181533601761\n",
            "Score 100: p-value = 0.5951631467095724\n",
            "Score 102: p-value = 0.4254200204693488\n",
            "Score 105: p-value = 0.2318604627746803\n",
            "Score 107: p-value = 0.14394285142293217\n"
          ]
        }
      ]
    },
    {
      "cell_type": "code",
      "source": [
        "#: Sample data of a new drug's effect on blood pressure reduction\n",
        "import math\n",
        "bp = [10, 12, 14, 15, 13, 16, 18, 17, 19, 20]\n",
        "n = len(bp)\n",
        "\n",
        "# Mean\n",
        "mean = sum(bp) / n\n",
        "\n",
        "# standard deviation\n",
        "variance = sum((x - mean) ** 2 for x in bp) / (n - 1)\n",
        "std_dev = math.sqrt(variance)\n",
        "\n",
        "\n",
        "mu0 = 0\n",
        "t_stat = (mean - mu0) / (std_dev / math.sqrt(n))\n",
        "df = n - 1\n",
        "\n",
        "print(\"Mean:\", mean)\n",
        "print(\"Standard Deviation:\", std_dev)\n",
        "print(\"t-statistic:\", t_stat)\n",
        "print(\"Degrees of Freedom:\", df)\n",
        "\n",
        "def normal_cdf(z):\n",
        "    return 0.5 * (1 + math.erf(z / math.sqrt(2)))\n",
        "\n",
        "p_value_one_tailed = 1 - normal_cdf(t_stat)\n",
        "p_value_two_tailed = 2 * p_value_one_tailed\n",
        "\n",
        "print(\"One-tailed p-value:\", p_value_one_tailed)\n",
        "print(\"Two-tailed p-value:\", p_value_two_tailed)\n",
        "\n",
        "#Confidence Interval\n",
        "t_critical = 2.262\n",
        "margin_error = t_critical * (std_dev / math.sqrt(n))\n",
        "ci_lower = mean - margin_error\n",
        "ci_upper = mean + margin_error\n",
        "\n",
        "print(\"Confidence Interval: (\", ci_lower, \",\", ci_upper, \")\")\n"
      ],
      "metadata": {
        "colab": {
          "base_uri": "https://localhost:8080/"
        },
        "id": "344EYmAEVdsl",
        "outputId": "3038e008-fd28-4959-8c21-26d5b35d1e78"
      },
      "execution_count": 15,
      "outputs": [
        {
          "output_type": "stream",
          "name": "stdout",
          "text": [
            "Mean: 15.4\n",
            "Standard Deviation: 3.2041639575194445\n",
            "t-statistic: 15.198684153570664\n",
            "Degrees of Freedom: 9\n",
            "One-tailed p-value: 0.0\n",
            "Two-tailed p-value: 0.0\n",
            "Confidence Interval: ( 13.108038429641544 , 17.69196157035846 )\n"
          ]
        }
      ]
    },
    {
      "cell_type": "code",
      "source": [
        "#Monthly income of individuals\n",
        "import math\n",
        "income = [3.5, 4.0, 4.2, 4.5, 4.7, 5.0, 5.3, 5.5, 5.7, 6.0]\n",
        "n = len(income)\n",
        "\n",
        "# Mean\n",
        "mean = sum(income) / n\n",
        "\n",
        "# standard deviation\n",
        "variance = sum((x - mean) ** 2 for x in income) / (n - 1)\n",
        "std_dev = math.sqrt(variance)\n",
        "\n",
        "\n",
        "df = n - 1\n",
        "t_critical = 2.262\n",
        "margin_error = t_critical * (std_dev / math.sqrt(n))\n",
        "\n",
        "# Confidence Interval\n",
        "ci_lower = mean - margin_error\n",
        "ci_upper = mean + margin_error\n",
        "\n",
        "print(\"Mean Income:\", mean)\n",
        "print(\"Standard Deviation:\", std_dev)\n",
        "print(\"95% Confidence Interval: (\", ci_lower, \",\", ci_upper, \")\")\n"
      ],
      "metadata": {
        "colab": {
          "base_uri": "https://localhost:8080/"
        },
        "id": "akowjuK1V5ID",
        "outputId": "38a4aaf1-cb9a-4637-e900-20dee2ae8359"
      },
      "execution_count": 16,
      "outputs": [
        {
          "output_type": "stream",
          "name": "stdout",
          "text": [
            "Mean Income: 4.84\n",
            "Standard Deviation: 0.8030497424748289\n",
            "95% Confidence Interval: ( 4.265572731845014 , 5.414427268154986 )\n"
          ]
        }
      ]
    },
    {
      "cell_type": "code",
      "source": [
        "#Daily temperatures (in °C) over two weeks\n",
        "temps = [25, 26, 27, 28, 29, 30, 31, 32, 33, 34, 35, 36, 37, 38]\n",
        "temps.sort()\n",
        "n = len(temps)\n",
        "\n",
        "# median\n",
        "def median(data):\n",
        "    m = len(data)\n",
        "    if m % 2 == 0:\n",
        "        return (data[m//2 - 1] + data[m//2]) / 2\n",
        "    else:\n",
        "        return data[m//2]\n",
        "\n",
        "# Q1 and Q3\n",
        "if n % 2 == 0:\n",
        "    lower_half = temps[:n//2]\n",
        "    upper_half = temps[n//2:]\n",
        "else:\n",
        "    lower_half = temps[:n//2]\n",
        "    upper_half = temps[n//2+1:]\n",
        "\n",
        "Q1 = median(lower_half)\n",
        "Q3 = median(upper_half)\n",
        "IQR = Q3 - Q1\n",
        "\n",
        "lower_bound = Q1 - 1.5 * IQR\n",
        "upper_bound = Q3 + 1.5 * IQR\n",
        "\n",
        "#outliers\n",
        "outliers = [x for x in temps if x < lower_bound or x > upper_bound]\n",
        "\n",
        "print(\"Q1:\", Q1)\n",
        "print(\"Q3:\", Q3)\n",
        "print(\"IQR:\", IQR)\n",
        "print(\"Lower Bound:\", lower_bound)\n",
        "print(\"Upper Bound:\", upper_bound)\n",
        "print(\"Outliers:\", outliers)\n",
        "\n",
        "\n",
        "\n"
      ],
      "metadata": {
        "colab": {
          "base_uri": "https://localhost:8080/"
        },
        "id": "tNMtpKCeWLzF",
        "outputId": "61c1771a-2182-4efc-d2b7-509c791d3952"
      },
      "execution_count": 17,
      "outputs": [
        {
          "output_type": "stream",
          "name": "stdout",
          "text": [
            "Q1: 28\n",
            "Q3: 35\n",
            "IQR: 7\n",
            "Lower Bound: 17.5\n",
            "Upper Bound: 45.5\n",
            "Outliers: []\n"
          ]
        }
      ]
    },
    {
      "cell_type": "code",
      "source": [],
      "metadata": {
        "id": "0xjaZJsKXjUR"
      },
      "execution_count": null,
      "outputs": []
    }
  ]
}