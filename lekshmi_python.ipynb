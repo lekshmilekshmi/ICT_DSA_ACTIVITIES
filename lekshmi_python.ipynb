{
  "nbformat": 4,
  "nbformat_minor": 0,
  "metadata": {
    "colab": {
      "provenance": [],
      "authorship_tag": "ABX9TyO5WZhEouA9jZKfdT+3aQxE",
      "include_colab_link": true
    },
    "kernelspec": {
      "name": "python3",
      "display_name": "Python 3"
    },
    "language_info": {
      "name": "python"
    }
  },
  "cells": [
    {
      "cell_type": "markdown",
      "metadata": {
        "id": "view-in-github",
        "colab_type": "text"
      },
      "source": [
        "<a href=\"https://colab.research.google.com/github/lekshmilekshmi/ICT_DSA_ACTIVITIES/blob/main/lekshmi_python.ipynb\" target=\"_parent\"><img src=\"https://colab.research.google.com/assets/colab-badge.svg\" alt=\"Open In Colab\"/></a>"
      ]
    },
    {
      "cell_type": "code",
      "execution_count": null,
      "metadata": {
        "colab": {
          "base_uri": "https://localhost:8080/"
        },
        "id": "e-69YbRF7jwN",
        "outputId": "ad40fb0d-e493-44ac-d3d6-21c309cd0717"
      },
      "outputs": [
        {
          "output_type": "stream",
          "name": "stdout",
          "text": [
            "Enter item name (or 'done' to finish): butter\n",
            "Enter price of butter: 70\n",
            "Enter item name (or 'done' to finish): cheese\n",
            "Enter price of cheese: 100\n",
            "Enter item name (or 'done' to finish): done\n",
            "Final Bill Amount: ₹ 170.0\n"
          ]
        }
      ],
      "source": [
        "#Grocery Store Billing\n",
        "\n",
        "total = 0\n",
        "while True:\n",
        "    item = input(\"Enter item name (or 'done' to finish): \")\n",
        "    if item.lower() == \"done\":\n",
        "        break\n",
        "    price = float(input(f\"Enter price of {item}: \"))\n",
        "    total += price\n",
        "if total > 500:\n",
        "    total *= 0.9 # 10% discount\n",
        "\n",
        "print(\"Final Bill Amount: ₹\", total)\n"
      ]
    },
    {
      "cell_type": "code",
      "source": [
        "#Exam Result Calculator\n",
        "\n",
        "marks = []\n",
        "for i in range(5):\n",
        "    mark = int(input(f\"Enter marks for subject {i+1}: \"))\n",
        "    marks.append(mark)\n",
        "\n",
        "percentage = sum(marks) / 5\n",
        "print(\"Percentage:\", percentage)\n",
        "if percentage >= 90:\n",
        "    grade = \"A\"\n",
        "elif percentage >= 75:\n",
        "    grade = \"B\"\n",
        "elif percentage >= 50:\n",
        "    grade = \"C\"\n",
        "else:\n",
        "    grade = \"Fail\"\n",
        "\n",
        "print(\"Grade:\", grade)"
      ],
      "metadata": {
        "colab": {
          "base_uri": "https://localhost:8080/"
        },
        "id": "FIrSe_4r9rEb",
        "outputId": "1fc9b075-a3e4-4095-9481-24637d8e72f5"
      },
      "execution_count": null,
      "outputs": [
        {
          "output_type": "stream",
          "name": "stdout",
          "text": [
            "Enter marks for subject 1: 78\n",
            "Enter marks for subject 2: 90\n",
            "Enter marks for subject 3: 50\n",
            "Enter marks for subject 4: 67\n",
            "Enter marks for subject 5: 25\n",
            "Percentage: 62.0\n",
            "Grade: C\n"
          ]
        }
      ]
    },
    {
      "cell_type": "code",
      "source": [
        "#Cricket Score Tracker\n",
        "\n",
        "scores = {}\n",
        "for i in range(5):\n",
        "    name = input(f\"Enter player {i+1} name: \")\n",
        "    run = int(input(f\"Enter {name}'s score: \"))\n",
        "    scores[name] = run\n",
        "\n",
        "# Top scorer\n",
        "top_player = max(scores, key=scores.get)\n",
        "print(\"Top Scorer:\", top_player, \"with\", scores[top_player], \"runs\")\n",
        "\n",
        "# Update score\n",
        "player = input(\"Enter player name to update score: \")\n",
        "new_score = int(input(\"Enter new score: \"))\n",
        "scores[player] = new_score\n",
        "print(\"Updated Scores:\", scores)\n"
      ],
      "metadata": {
        "colab": {
          "base_uri": "https://localhost:8080/"
        },
        "id": "8ffTXr1qBTdI",
        "outputId": "17ebd04f-4b5c-4e82-e0d8-8742446b6feb"
      },
      "execution_count": null,
      "outputs": [
        {
          "output_type": "stream",
          "name": "stdout",
          "text": [
            "Enter player 1 name: harsh\n",
            "Enter harsh's score: 78\n",
            "Enter player 2 name: varsh\n",
            "Enter varsh's score: 89\n",
            "Enter player 3 name: darsh\n",
            "Enter darsh's score: 90\n",
            "Enter player 4 name: dev\n",
            "Enter dev's score: 45\n",
            "Enter player 5 name: tinnu\n",
            "Enter tinnu's score: 34\n",
            "Top Scorer: darsh with 90 runs\n",
            "Enter player name to update score: varsh\n",
            "Enter new score: 98\n",
            "Updated Scores: {'harsh': 78, 'varsh': 98, 'darsh': 90, 'dev': 45, 'tinnu': 34}\n"
          ]
        }
      ]
    },
    {
      "cell_type": "code",
      "source": [
        "#Restaurant Order System\n",
        "\n",
        "menu = {\n",
        "    \"Pizza\": 200,\n",
        "    \"Burger\": 100,\n",
        "    \"Pasta\": 150,\n",
        "    \"Fries\": 80\n",
        "}\n",
        "\n",
        "order = []\n",
        "total = 0\n",
        "while True:\n",
        "    item = input(\"Enter item to order (or 'done' to finish): \")\n",
        "    if item.lower() == \"done\":\n",
        "        break\n",
        "    if item in menu:\n",
        "        order.append(item)\n",
        "        total += menu[item]\n",
        "    else:\n",
        "        print(\"Item not on menu!\")\n",
        "\n",
        "if \"Pizza\" in order:\n",
        "    total -= 50 # ₹50 off if Pizza ordered\n",
        "\n",
        "print(\"Final Bill: ₹\", total)\n",
        "\n",
        "\n"
      ],
      "metadata": {
        "colab": {
          "base_uri": "https://localhost:8080/"
        },
        "id": "FF4osLtdB3f1",
        "outputId": "fc43eb75-3b90-4c52-81e5-124036dc43c1"
      },
      "execution_count": null,
      "outputs": [
        {
          "output_type": "stream",
          "name": "stdout",
          "text": [
            "Enter item to order (or 'done' to finish): Pizza\n",
            "Enter item to order (or 'done' to finish): Pasta\n",
            "Enter item to order (or 'done' to finish): done\n",
            "Final Bill: ₹ 300\n"
          ]
        }
      ]
    },
    {
      "cell_type": "code",
      "source": [
        "#Temperature Conversion Tool\n",
        "\n",
        "celsius = float(input(\"Enter temperature in Celsius: \"))\n",
        "fahrenheit = (celsius * 9/5) + 32\n",
        "print(f\"{celsius}°C = {fahrenheit}°F\")\n",
        "\n"
      ],
      "metadata": {
        "colab": {
          "base_uri": "https://localhost:8080/"
        },
        "id": "OqjvjlDLCZjO",
        "outputId": "912fde53-7f76-4da7-c96a-f556c3953a08"
      },
      "execution_count": null,
      "outputs": [
        {
          "output_type": "stream",
          "name": "stdout",
          "text": [
            "Enter temperature in Celsius: 70\n",
            "70.0°C = 158.0°F\n"
          ]
        }
      ]
    },
    {
      "cell_type": "code",
      "source": [
        "#Online Shopping Cart\n",
        "\n",
        "cart = []\n",
        "\n",
        "while True:\n",
        "    print(\"\\nCart:\", cart)\n",
        "    action = input(\"Choose action - add/remove/view/checkout: \").lower()\n",
        "    if action == \"add\":\n",
        "        item = input(\"Enter item to add: \")\n",
        "        cart.append(item)\n",
        "    elif action == \"remove\":\n",
        "        item = input(\"Enter item to remove: \")\n",
        "        if item in cart:\n",
        "            cart.remove(item)\n",
        "        else:\n",
        "           print(\"Item not in cart!\")\n",
        "    elif action == \"view\":\n",
        "        print(\"Your Cart:\", cart)\n",
        "    elif action == \"checkout\":\n",
        "        print(\"Final Cart:\", cart)\n",
        "        break\n",
        "    else:\n",
        "        print(\"Invalid choice!\")"
      ],
      "metadata": {
        "colab": {
          "base_uri": "https://localhost:8080/"
        },
        "id": "ElGLl_H8DPlm",
        "outputId": "cd95ef17-1c8d-4553-fc07-c03eb0459d27"
      },
      "execution_count": null,
      "outputs": [
        {
          "output_type": "stream",
          "name": "stdout",
          "text": [
            "\n",
            "Cart: []\n",
            "Choose action - add/remove/view/checkout: add\n",
            "Enter item to add: top\n",
            "\n",
            "Cart: ['top']\n",
            "Choose action - add/remove/view/checkout: checkout\n",
            "Final Cart: ['top']\n"
          ]
        }
      ]
    },
    {
      "cell_type": "code",
      "source": [
        "#Cinema Ticket Booking System\n",
        "\n",
        "seats = 50\n",
        "ticket_price = 120\n",
        "\n",
        "while seats > 0:\n",
        "    req = int(input(\"How many tickets do you want? \"))\n",
        "    if req <= seats:\n",
        "        cost = req * ticket_price\n",
        "        seats -= req\n",
        "        print(\"Booking confirmed! Pay ₹\", cost)\n",
        "    else:\n",
        "        print(\"Sorry, only\", seats, \"seats available.\")\n",
        "    print(\"Remaining Seats:\", seats)\n",
        "\n",
        "    cont = input(\"Do you want to book more? (yes/no): \").lower()\n",
        "    if cont != \"yes\":\n",
        "        break"
      ],
      "metadata": {
        "colab": {
          "base_uri": "https://localhost:8080/"
        },
        "id": "mXHHuMAcGGyM",
        "outputId": "a0c1882d-442f-422b-f27c-78f6c7b5430e"
      },
      "execution_count": null,
      "outputs": [
        {
          "name": "stdout",
          "output_type": "stream",
          "text": [
            "How many tickets do you want? 5\n",
            "Booking confirmed! Pay ₹ 600\n",
            "Remaining Seats: 45\n",
            "Do you want to book more? (yes/no): NO\n"
          ]
        }
      ]
    },
    {
      "cell_type": "code",
      "source": [
        "#Student Attendance Tracker\n",
        "\n",
        "students = []\n",
        "attendance = []\n",
        "\n",
        "n = int(input(\"Enter number of students: \"))\n",
        "for i in range(n):\n",
        "    name = input(f\"Enter student {i+1} name: \")\n",
        "    status = input(f\"Mark attendance for {name} (P/A): \").upper()\n",
        "    students.append(name)\n",
        "    attendance.append(status)\n",
        "\n",
        "present = attendance.count(\"P\")\n",
        "absent = attendance.count(\"A\")\n",
        "\n",
        "print(\"Total Present:\", present)\n",
        "print(\"Total Absent:\", absent)"
      ],
      "metadata": {
        "colab": {
          "base_uri": "https://localhost:8080/"
        },
        "id": "nkEbbRceFdpw",
        "outputId": "e4f78847-934a-4288-b3fd-234d827cb192"
      },
      "execution_count": null,
      "outputs": [
        {
          "output_type": "stream",
          "name": "stdout",
          "text": [
            "Enter number of students: 5\n",
            "Enter student 1 name: anvi\n",
            "Mark attendance for anvi (P/A): P\n",
            "Enter student 2 name: lilly\n",
            "Mark attendance for lilly (P/A): A\n",
            "Enter student 3 name: mittu\n",
            "Mark attendance for mittu (P/A): A\n",
            "Enter student 4 name: tintu\n",
            "Mark attendance for tintu (P/A): P\n",
            "Enter student 5 name: hashu\n",
            "Mark attendance for hashu (P/A): P\n",
            "Total Present: 3\n",
            "Total Absent: 2\n"
          ]
        }
      ]
    },
    {
      "cell_type": "code",
      "source": [
        "#Cinema Ticket Booking System\n",
        "\n",
        "seats = 50\n",
        "ticket_price = 120\n",
        "\n",
        "while seats > 0:\n",
        "    req = int(input(\"How many tickets do you want? \"))\n",
        "    if  req <= seats:\n",
        "       cost = req * ticket_price\n",
        "       seats -= req\n",
        "       print(\"Booking confirmed! Pay ₹\", cost)\n",
        "    else:\n",
        "        print(\"Sorry, only\", seats, \"seats available.\")\n",
        "    print(\"Remaining Seats:\", seats)\n",
        "\n",
        "    cont = input(\"Do you want to book more? (yes/no): \").lower()\n",
        "    if cont != \"yes\":\n",
        "        break"
      ],
      "metadata": {
        "colab": {
          "base_uri": "https://localhost:8080/"
        },
        "id": "3oJNkDPWhGFH",
        "outputId": "517969b9-f3de-43e2-ada7-ea5cd57609ae"
      },
      "execution_count": 2,
      "outputs": [
        {
          "name": "stdout",
          "output_type": "stream",
          "text": [
            "How many tickets do you want? 5\n",
            "Booking confirmed! Pay ₹ 600\n",
            "Remaining Seats: 45\n",
            "Do you want to book more? (yes/no): no\n"
          ]
        }
      ]
    },
    {
      "cell_type": "code",
      "source": [
        "#Bank Loan Eligibility Checker\n",
        "\n",
        "salary = int(input(\"Enter your salary: \"))\n",
        "credit = int(input(\"Enter your credit score: \"))\n",
        "age = int(input(\"Enter your age: \"))\n",
        "\n",
        "if salary >= 25000 and credit >= 650 and 21 <= age <= 60:\n",
        "    print(\"You are eligible for loan!\")\n",
        "else:\n",
        "    print(\"Sorry, you are not eligible for loan.\")"
      ],
      "metadata": {
        "colab": {
          "base_uri": "https://localhost:8080/"
        },
        "id": "zcN-XI_ph9BH",
        "outputId": "13cb79a8-3197-4547-eba9-3f4add06b13e"
      },
      "execution_count": 3,
      "outputs": [
        {
          "output_type": "stream",
          "name": "stdout",
          "text": [
            "Enter your salary: 15000\n",
            "Enter your credit score: 400\n",
            "Enter your age: 56\n",
            "Sorry, you are not eligible for loan.\n"
          ]
        }
      ]
    }
  ]
}